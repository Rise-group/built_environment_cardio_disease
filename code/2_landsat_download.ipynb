{
 "cells": [
  {
   "cell_type": "markdown",
   "metadata": {},
   "source": [
    "# Download Landsat SR images from Earth Engine"
   ]
  },
  {
   "cell_type": "markdown",
   "metadata": {},
   "source": [
    "Images selected previously using Earth Explorer and visual assessment:\n",
    "cloud cover less than 30% over land."
   ]
  },
  {
   "cell_type": "code",
   "execution_count": 1,
   "metadata": {},
   "outputs": [],
   "source": [
    "# import and initialize library\n",
    "\n",
    "import ee\n",
    "ee.Initialize()\n",
    "import IPython.display as disp\n",
    "import pandas as pd"
   ]
  },
  {
   "cell_type": "code",
   "execution_count": 2,
   "metadata": {},
   "outputs": [
    {
     "name": "stdout",
     "output_type": "stream",
     "text": [
      "{u'bands': [{u'crs': u'EPSG:32618', u'crs_transform': [30.0, 0.0, 308085.0, 0.0, -30.0, 755415.0], u'id': u'B1', u'data_type': {u'max': 32767, u'type': u'PixelType', u'precision': u'int', u'min': -32768}, u'dimensions': [7591, 7751]}, {u'crs': u'EPSG:32618', u'crs_transform': [30.0, 0.0, 308085.0, 0.0, -30.0, 755415.0], u'id': u'B2', u'data_type': {u'max': 32767, u'type': u'PixelType', u'precision': u'int', u'min': -32768}, u'dimensions': [7591, 7751]}, {u'crs': u'EPSG:32618', u'crs_transform': [30.0, 0.0, 308085.0, 0.0, -30.0, 755415.0], u'id': u'B3', u'data_type': {u'max': 32767, u'type': u'PixelType', u'precision': u'int', u'min': -32768}, u'dimensions': [7591, 7751]}, {u'crs': u'EPSG:32618', u'crs_transform': [30.0, 0.0, 308085.0, 0.0, -30.0, 755415.0], u'id': u'B4', u'data_type': {u'max': 32767, u'type': u'PixelType', u'precision': u'int', u'min': -32768}, u'dimensions': [7591, 7751]}, {u'crs': u'EPSG:32618', u'crs_transform': [30.0, 0.0, 308085.0, 0.0, -30.0, 755415.0], u'id': u'B5', u'data_type': {u'max': 32767, u'type': u'PixelType', u'precision': u'int', u'min': -32768}, u'dimensions': [7591, 7751]}, {u'crs': u'EPSG:32618', u'crs_transform': [30.0, 0.0, 308085.0, 0.0, -30.0, 755415.0], u'id': u'B6', u'data_type': {u'max': 32767, u'type': u'PixelType', u'precision': u'int', u'min': -32768}, u'dimensions': [7591, 7751]}, {u'crs': u'EPSG:32618', u'crs_transform': [30.0, 0.0, 308085.0, 0.0, -30.0, 755415.0], u'id': u'B7', u'data_type': {u'max': 32767, u'type': u'PixelType', u'precision': u'int', u'min': -32768}, u'dimensions': [7591, 7751]}, {u'crs': u'EPSG:32618', u'crs_transform': [30.0, 0.0, 308085.0, 0.0, -30.0, 755415.0], u'id': u'B10', u'data_type': {u'max': 32767, u'type': u'PixelType', u'precision': u'int', u'min': -32768}, u'dimensions': [7591, 7751]}, {u'crs': u'EPSG:32618', u'crs_transform': [30.0, 0.0, 308085.0, 0.0, -30.0, 755415.0], u'id': u'B11', u'data_type': {u'max': 32767, u'type': u'PixelType', u'precision': u'int', u'min': -32768}, u'dimensions': [7591, 7751]}, {u'crs': u'EPSG:32618', u'crs_transform': [30.0, 0.0, 308085.0, 0.0, -30.0, 755415.0], u'id': u'sr_aerosol', u'data_type': {u'max': 255, u'type': u'PixelType', u'precision': u'int', u'min': 0}, u'dimensions': [7591, 7751]}, {u'crs': u'EPSG:32618', u'crs_transform': [30.0, 0.0, 308085.0, 0.0, -30.0, 755415.0], u'id': u'pixel_qa', u'data_type': {u'max': 65535, u'type': u'PixelType', u'precision': u'int', u'min': 0}, u'dimensions': [7591, 7751]}, {u'crs': u'EPSG:32618', u'crs_transform': [30.0, 0.0, 308085.0, 0.0, -30.0, 755415.0], u'id': u'radsat_qa', u'data_type': {u'max': 65535, u'type': u'PixelType', u'precision': u'int', u'min': 0}, u'dimensions': [7591, 7751]}], u'version': 1522736114819968, u'type': u'Image', u'id': u'LANDSAT/LC08/C01/T1_SR/LC08_009056_20151229', u'properties': {u'system:index': u'LC08_009056_20151229', u'EARTH_SUN_DISTANCE': 0.983353, u'system:time_start': 1451402318950.0, u'system:footprint': {u'type': u'LinearRing', u'coordinates': [[-76.34611683106421, 6.826662390599077], [-76.3485014799991, 6.816316889859663], [-76.38198289571693, 6.662517456511496], [-76.39967368623174, 6.580677851717493], [-76.52171322183536, 6.007350817371935], [-76.568532068051, 5.787183521218229], [-76.70777941008396, 5.131126530784626], [-76.71616749665708, 5.091360620417125], [-76.55668590540519, 5.057127980126694], [-75.08083219298416, 4.738250963405744], [-75.07769243574324, 4.751430164223401], [-75.05102116509723, 4.872692981432913], [-74.94454068773747, 5.365609593725093], [-74.8621345980114, 5.747446710470288], [-74.75298315156657, 6.253818806000666], [-74.70550149272331, 6.477022816152318], [-74.97800810881552, 6.535623185091938], [-76.34556200270627, 6.827220093223335], [-76.34611683106421, 6.826662390599077]]}, u'LEVEL1_PRODUCTION_DATE': 1490962103000.0, u'SATELLITE': u'LANDSAT_8', u'GEOMETRIC_RMSE_MODEL': 7.846, u'CLOUD_COVER': 24.53, u'IMAGE_QUALITY_TIRS': 9.0, u'SOLAR_AZIMUTH_ANGLE': 139.178085, u'PIXEL_QA_VERSION': u'generate_pixel_qa_1.6.0', u'SOLAR_ZENITH_ANGLE': 38.891842, u'CLOUD_COVER_LAND': 24.53, u'GEOMETRIC_RMSE_MODEL_X': 4.146, u'GEOMETRIC_RMSE_MODEL_Y': 6.661, u'IMAGE_QUALITY_OLI': 9.0, u'ESPA_VERSION': u'2_23_0_1a', u'WRS_ROW': 56.0, u'system:asset_size': 678240553, u'LANDSAT_ID': u'LC08_L1TP_009056_20151229_20170331_01_T1', u'SENSING_TIME': u'2015-12-29T15:18:38.9494950Z', u'WRS_PATH': 9.0, u'SR_APP_VERSION': u'LaSRC_1.3.0'}}\n"
     ]
    }
   ],
   "source": [
    "# test access, printing image information\n",
    "# from landsat surface reflectance (atmospherically corrected) image\n",
    "\n",
    "image = ee.Image('LANDSAT/LC08/C01/T1_SR/LC08_009056_20151229')\n",
    "print(image.getInfo())"
   ]
  },
  {
   "cell_type": "code",
   "execution_count": 3,
   "metadata": {},
   "outputs": [],
   "source": [
    "# define roi in geographic coordinates (WGS 84)\n",
    "# coordinates for Medellin's area of interest (SIT zones bounding box), \n",
    "# change them for other regions\n",
    "\n",
    "llx = -75.9831580443379409\n",
    "lly = 5.7097353657807917\n",
    "urx = -75.0048541502874002\n",
    "ury = 6.6619499248895133\n",
    "geometry = [[llx,lly], [llx,ury], [urx,ury], [urx,lly]]"
   ]
  },
  {
   "cell_type": "code",
   "execution_count": 4,
   "metadata": {},
   "outputs": [
    {
     "name": "stdout",
     "output_type": "stream",
     "text": [
      "https://earthengine.googleapis.com/api/download?docid=d8d19c415724bd63c7422d03ca2875c6&token=2467afa782ef539963ccaa1fbdc63793\n"
     ]
    }
   ],
   "source": [
    "# test path for downloading image\n",
    "\n",
    "# Get a download URL for an image.\n",
    "path = image.getDownloadUrl({\n",
    "    'scale': 30,\n",
    "    'crs': 'EPSG:32618',\n",
    "    'region': geometry\n",
    "})\n",
    "print path"
   ]
  },
  {
   "cell_type": "code",
   "execution_count": 5,
   "metadata": {},
   "outputs": [
    {
     "data": {
      "text/plain": [
       "['LANDSAT/LC08/C01/T1_SR/LC08_009056_20171218',\n",
       " 'LANDSAT/LC08/C01/T1_SR/LC08_009056_20160622',\n",
       " 'LANDSAT/LC08/C01/T1_SR/LC08_009056_20160521',\n",
       " 'LANDSAT/LC08/C01/T1_SR/LC08_009056_20160505',\n",
       " 'LANDSAT/LC08/C01/T1_SR/LC08_009056_20151229',\n",
       " 'LANDSAT/LC08/C01/T1_SR/LC08_009056_20150111',\n",
       " 'LANDSAT/LC08/C01/T1_SR/LC08_009056_20140820',\n",
       " 'LANDSAT/LC08/C01/T1_SR/LC08_009056_20130716']"
      ]
     },
     "execution_count": 5,
     "metadata": {},
     "output_type": "execute_result"
    }
   ],
   "source": [
    "# list with image selection\n",
    "\n",
    "l8_list = ['LANDSAT/LC08/C01/T1_SR/LC08_009056_20171218',\n",
    "           'LANDSAT/LC08/C01/T1_SR/LC08_009056_20160622',\n",
    "           'LANDSAT/LC08/C01/T1_SR/LC08_009056_20160521',\n",
    "           'LANDSAT/LC08/C01/T1_SR/LC08_009056_20160505',\n",
    "           'LANDSAT/LC08/C01/T1_SR/LC08_009056_20151229',\n",
    "           'LANDSAT/LC08/C01/T1_SR/LC08_009056_20150111',\n",
    "           'LANDSAT/LC08/C01/T1_SR/LC08_009056_20140820',\n",
    "           'LANDSAT/LC08/C01/T1_SR/LC08_009056_20130716']\n",
    "l8_list"
   ]
  },
  {
   "cell_type": "code",
   "execution_count": 6,
   "metadata": {},
   "outputs": [
    {
     "name": "stdout",
     "output_type": "stream",
     "text": [
      "('LANDSAT/LC08/C01/T1_SR/LC08_009056_20171218', 'LC08_009056_20171218')\n"
     ]
    }
   ],
   "source": [
    "# check names to match Earth Engine image IDs\n",
    "print(l8_list[0], l8_list[0][-20:])"
   ]
  },
  {
   "cell_type": "code",
   "execution_count": 7,
   "metadata": {},
   "outputs": [
    {
     "name": "stdout",
     "output_type": "stream",
     "text": [
      "0\n",
      "LC08_009056_20171218\n",
      "task sent to Earth Engine\n",
      "task started\n",
      "1\n",
      "LC08_009056_20160622\n",
      "task sent to Earth Engine\n",
      "task started\n",
      "2\n",
      "LC08_009056_20160521\n",
      "task sent to Earth Engine\n",
      "task started\n",
      "3\n",
      "LC08_009056_20160505\n",
      "task sent to Earth Engine\n",
      "task started\n",
      "4\n",
      "LC08_009056_20151229\n",
      "task sent to Earth Engine\n",
      "task started\n",
      "5\n",
      "LC08_009056_20150111\n",
      "task sent to Earth Engine\n",
      "task started\n",
      "6\n",
      "LC08_009056_20140820\n",
      "task sent to Earth Engine\n",
      "task started\n",
      "7\n",
      "LC08_009056_20130716\n",
      "task sent to Earth Engine\n",
      "task started\n"
     ]
    }
   ],
   "source": [
    "# Export images in l8_list\n",
    "# select all bands\n",
    "\n",
    "for i in range(0,len(l8_list)):\n",
    "    image = ee.Image(l8_list[i])\n",
    "    #image = image.select(['B2', 'B3', 'B4', 'B5', 'B6', 'B10', 'B7', 'pixel_qa'])\n",
    "    filename = l8_list[i][-20:]\n",
    "    descrip = 'image download: ' + str(filename)\n",
    "    params = {\n",
    "        'fileNamePrefix': filename,\n",
    "        'folder': 'EarthEngine',\n",
    "        'image': image.toFloat(),\n",
    "        'description': descrip,\n",
    "        'scale': 30,\n",
    "        'region': geometry,\n",
    "        'crs': 'EPSG:32618',\n",
    "        'maxPixels': 1e13\n",
    "    }\n",
    "    print(i)\n",
    "    print(filename)\n",
    "    task = ee.batch.Export.image.toDrive(**params)\n",
    "    print('task sent to Earth Engine')\n",
    "    task.start()\n",
    "    print('task started')"
   ]
  },
  {
   "cell_type": "code",
   "execution_count": null,
   "metadata": {},
   "outputs": [],
   "source": []
  }
 ],
 "metadata": {
  "kernelspec": {
   "display_name": "Python 2",
   "language": "python",
   "name": "python2"
  },
  "language_info": {
   "codemirror_mode": {
    "name": "ipython",
    "version": 2
   },
   "file_extension": ".py",
   "mimetype": "text/x-python",
   "name": "python",
   "nbconvert_exporter": "python",
   "pygments_lexer": "ipython2",
   "version": "2.7.15"
  }
 },
 "nbformat": 4,
 "nbformat_minor": 2
}
